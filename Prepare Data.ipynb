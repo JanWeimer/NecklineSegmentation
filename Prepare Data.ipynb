{
 "cells": [
  {
   "cell_type": "code",
   "execution_count": 1,
   "id": "25745189",
   "metadata": {},
   "outputs": [],
   "source": [
    "import pandas as pd\n",
    "\n",
    "import matplotlib.image as mpimg\n",
    "import matplotlib.pyplot as plt\n",
    "import numpy as np\n",
    "\n",
    "import os\n",
    "import cv2\n"
   ]
  },
  {
   "cell_type": "markdown",
   "id": "b3527426",
   "metadata": {},
   "source": [
    "Define functions that create the image paths (Original/source and training)"
   ]
  },
  {
   "cell_type": "code",
   "execution_count": 2,
   "id": "75fe0b75",
   "metadata": {},
   "outputs": [],
   "source": [
    "\n",
    "def create_source_path(id):     \n",
    "    return \"C:/Users/weime/Documents/Python Scripts/CircularFashion/Data/fashion-dataset/images/\"+ str(id) + \".jpg\"\n",
    "def create_training_path(id, extension):     \n",
    "    return \"C:/Users/weime/Documents/Python Scripts/CircularFashion/Data/fashion-dataset/targets/\"+ str(id) + extension + \".jpg\""
   ]
  },
  {
   "cell_type": "code",
   "execution_count": 3,
   "id": "f0b2dd74",
   "metadata": {},
   "outputs": [
    {
     "data": {
      "text/html": [
       "<div>\n",
       "<style scoped>\n",
       "    .dataframe tbody tr th:only-of-type {\n",
       "        vertical-align: middle;\n",
       "    }\n",
       "\n",
       "    .dataframe tbody tr th {\n",
       "        vertical-align: top;\n",
       "    }\n",
       "\n",
       "    .dataframe thead th {\n",
       "        text-align: right;\n",
       "    }\n",
       "</style>\n",
       "<table border=\"1\" class=\"dataframe\">\n",
       "  <thead>\n",
       "    <tr style=\"text-align: right;\">\n",
       "      <th></th>\n",
       "      <th>id</th>\n",
       "      <th>gender</th>\n",
       "      <th>masterCategory</th>\n",
       "      <th>subCategory</th>\n",
       "      <th>articleType</th>\n",
       "      <th>baseColour</th>\n",
       "      <th>season</th>\n",
       "      <th>year</th>\n",
       "      <th>usage</th>\n",
       "      <th>productDisplayName</th>\n",
       "    </tr>\n",
       "  </thead>\n",
       "  <tbody>\n",
       "    <tr>\n",
       "      <th>0</th>\n",
       "      <td>15970</td>\n",
       "      <td>Men</td>\n",
       "      <td>Apparel</td>\n",
       "      <td>Topwear</td>\n",
       "      <td>Shirts</td>\n",
       "      <td>Navy Blue</td>\n",
       "      <td>Fall</td>\n",
       "      <td>2011.0</td>\n",
       "      <td>Casual</td>\n",
       "      <td>Turtle Check Men Navy Blue Shirt</td>\n",
       "    </tr>\n",
       "    <tr>\n",
       "      <th>4</th>\n",
       "      <td>53759</td>\n",
       "      <td>Men</td>\n",
       "      <td>Apparel</td>\n",
       "      <td>Topwear</td>\n",
       "      <td>Tshirts</td>\n",
       "      <td>Grey</td>\n",
       "      <td>Summer</td>\n",
       "      <td>2012.0</td>\n",
       "      <td>Casual</td>\n",
       "      <td>Puma Men Grey T-shirt</td>\n",
       "    </tr>\n",
       "    <tr>\n",
       "      <th>5</th>\n",
       "      <td>1855</td>\n",
       "      <td>Men</td>\n",
       "      <td>Apparel</td>\n",
       "      <td>Topwear</td>\n",
       "      <td>Tshirts</td>\n",
       "      <td>Grey</td>\n",
       "      <td>Summer</td>\n",
       "      <td>2011.0</td>\n",
       "      <td>Casual</td>\n",
       "      <td>Inkfruit Mens Chain Reaction T-shirt</td>\n",
       "    </tr>\n",
       "    <tr>\n",
       "      <th>6</th>\n",
       "      <td>30805</td>\n",
       "      <td>Men</td>\n",
       "      <td>Apparel</td>\n",
       "      <td>Topwear</td>\n",
       "      <td>Shirts</td>\n",
       "      <td>Green</td>\n",
       "      <td>Summer</td>\n",
       "      <td>2012.0</td>\n",
       "      <td>Ethnic</td>\n",
       "      <td>Fabindia Men Striped Green Shirt</td>\n",
       "    </tr>\n",
       "    <tr>\n",
       "      <th>7</th>\n",
       "      <td>26960</td>\n",
       "      <td>Women</td>\n",
       "      <td>Apparel</td>\n",
       "      <td>Topwear</td>\n",
       "      <td>Shirts</td>\n",
       "      <td>Purple</td>\n",
       "      <td>Summer</td>\n",
       "      <td>2012.0</td>\n",
       "      <td>Casual</td>\n",
       "      <td>Jealous 21 Women Purple Shirt</td>\n",
       "    </tr>\n",
       "    <tr>\n",
       "      <th>...</th>\n",
       "      <td>...</td>\n",
       "      <td>...</td>\n",
       "      <td>...</td>\n",
       "      <td>...</td>\n",
       "      <td>...</td>\n",
       "      <td>...</td>\n",
       "      <td>...</td>\n",
       "      <td>...</td>\n",
       "      <td>...</td>\n",
       "      <td>...</td>\n",
       "    </tr>\n",
       "    <tr>\n",
       "      <th>44412</th>\n",
       "      <td>1644</td>\n",
       "      <td>Men</td>\n",
       "      <td>Apparel</td>\n",
       "      <td>Topwear</td>\n",
       "      <td>Tshirts</td>\n",
       "      <td>Red</td>\n",
       "      <td>Fall</td>\n",
       "      <td>2010.0</td>\n",
       "      <td>Sports</td>\n",
       "      <td>Kipsta Men Loose Fit Round Neck Jersey Red</td>\n",
       "    </tr>\n",
       "    <tr>\n",
       "      <th>44414</th>\n",
       "      <td>30614</td>\n",
       "      <td>Men</td>\n",
       "      <td>Apparel</td>\n",
       "      <td>Topwear</td>\n",
       "      <td>Tshirts</td>\n",
       "      <td>Black</td>\n",
       "      <td>Summer</td>\n",
       "      <td>2012.0</td>\n",
       "      <td>Sports</td>\n",
       "      <td>Nike Men Striped Black Jersey</td>\n",
       "    </tr>\n",
       "    <tr>\n",
       "      <th>44415</th>\n",
       "      <td>13496</td>\n",
       "      <td>Men</td>\n",
       "      <td>Apparel</td>\n",
       "      <td>Topwear</td>\n",
       "      <td>Tshirts</td>\n",
       "      <td>Blue</td>\n",
       "      <td>Fall</td>\n",
       "      <td>2011.0</td>\n",
       "      <td>Casual</td>\n",
       "      <td>Chimp Men Teja Main Hoon Blue Tshirts</td>\n",
       "    </tr>\n",
       "    <tr>\n",
       "      <th>44417</th>\n",
       "      <td>12544</td>\n",
       "      <td>Women</td>\n",
       "      <td>Apparel</td>\n",
       "      <td>Topwear</td>\n",
       "      <td>Tshirts</td>\n",
       "      <td>Peach</td>\n",
       "      <td>Fall</td>\n",
       "      <td>2011.0</td>\n",
       "      <td>Casual</td>\n",
       "      <td>Tantra Women Printed Peach T-shirt</td>\n",
       "    </tr>\n",
       "    <tr>\n",
       "      <th>44421</th>\n",
       "      <td>18842</td>\n",
       "      <td>Men</td>\n",
       "      <td>Apparel</td>\n",
       "      <td>Topwear</td>\n",
       "      <td>Tshirts</td>\n",
       "      <td>Blue</td>\n",
       "      <td>Fall</td>\n",
       "      <td>2011.0</td>\n",
       "      <td>Casual</td>\n",
       "      <td>Puma Men Graphic Stellar Blue Tshirt</td>\n",
       "    </tr>\n",
       "  </tbody>\n",
       "</table>\n",
       "<p>11283 rows × 10 columns</p>\n",
       "</div>"
      ],
      "text/plain": [
       "          id gender masterCategory subCategory articleType baseColour  season  \\\n",
       "0      15970    Men        Apparel     Topwear      Shirts  Navy Blue    Fall   \n",
       "4      53759    Men        Apparel     Topwear     Tshirts       Grey  Summer   \n",
       "5       1855    Men        Apparel     Topwear     Tshirts       Grey  Summer   \n",
       "6      30805    Men        Apparel     Topwear      Shirts      Green  Summer   \n",
       "7      26960  Women        Apparel     Topwear      Shirts     Purple  Summer   \n",
       "...      ...    ...            ...         ...         ...        ...     ...   \n",
       "44412   1644    Men        Apparel     Topwear     Tshirts        Red    Fall   \n",
       "44414  30614    Men        Apparel     Topwear     Tshirts      Black  Summer   \n",
       "44415  13496    Men        Apparel     Topwear     Tshirts       Blue    Fall   \n",
       "44417  12544  Women        Apparel     Topwear     Tshirts      Peach    Fall   \n",
       "44421  18842    Men        Apparel     Topwear     Tshirts       Blue    Fall   \n",
       "\n",
       "         year   usage                          productDisplayName  \n",
       "0      2011.0  Casual            Turtle Check Men Navy Blue Shirt  \n",
       "4      2012.0  Casual                       Puma Men Grey T-shirt  \n",
       "5      2011.0  Casual        Inkfruit Mens Chain Reaction T-shirt  \n",
       "6      2012.0  Ethnic            Fabindia Men Striped Green Shirt  \n",
       "7      2012.0  Casual               Jealous 21 Women Purple Shirt  \n",
       "...       ...     ...                                         ...  \n",
       "44412  2010.0  Sports  Kipsta Men Loose Fit Round Neck Jersey Red  \n",
       "44414  2012.0  Sports               Nike Men Striped Black Jersey  \n",
       "44415  2011.0  Casual       Chimp Men Teja Main Hoon Blue Tshirts  \n",
       "44417  2011.0  Casual          Tantra Women Printed Peach T-shirt  \n",
       "44421  2011.0  Casual        Puma Men Graphic Stellar Blue Tshirt  \n",
       "\n",
       "[11283 rows x 10 columns]"
      ]
     },
     "execution_count": 3,
     "metadata": {},
     "output_type": "execute_result"
    }
   ],
   "source": [
    "Shirts = pd.read_csv(filepath_or_buffer=\"C:/Users/weime/Documents/Python Scripts/CircularFashion/Data/fashion-dataset/styles.csv\",\n",
    "            delimiter=\",\", encoding=\"utf-8\", on_bad_lines = \"skip\")\n",
    "\n",
    "Shirts = Shirts[Shirts[\"articleType\"].str.match('.*[Ss]weaters.*|.*[Ss]hirt.*|.*[Ss]uits.*|.*[Jj]ackets.*')]\n",
    "Shirts"
   ]
  },
  {
   "cell_type": "markdown",
   "id": "b5bc0625",
   "metadata": {},
   "source": [
    "Determine for which images there are labels, in order to use them for training."
   ]
  },
  {
   "cell_type": "code",
   "execution_count": 5,
   "id": "9e3da430",
   "metadata": {},
   "outputs": [],
   "source": [
    "training_paths = os.listdir(\"C:/Users/weime/Documents/Python Scripts/CircularFashion/Data/fashion-dataset/targets\")\n",
    "extension = \"_neckline\"\n",
    "\n",
    "training_ids = np.array([int(xi.removesuffix(extension + \".jpg\")) for xi in training_paths])\n",
    "Shirts[\"training_data\"] =  np.array([xi in training_ids for xi in Shirts[\"id\"]])\n"
   ]
  },
  {
   "cell_type": "markdown",
   "id": "72d37575",
   "metadata": {},
   "source": [
    "Create a function that transposes an image. This is done so that classifier will be translation invariant. We could also rotate the images and refelct them, but due to the nature of the immages, this seems not nessecary, especially with the limited time. "
   ]
  },
  {
   "cell_type": "code",
   "execution_count": 6,
   "id": "b855ddf9",
   "metadata": {},
   "outputs": [],
   "source": [
    "def transpose_img(img, x = 10, y  = 10, mode = \"source\"): \n",
    "    if (mode == \"source\"): \n",
    "        img_new = np.ones(img.shape) \n",
    "    else:\n",
    "        img_new = np.zeros(img.shape)\n",
    "\n",
    "\n",
    "    x_min     = max(x, 0)\n",
    "    x_min_new = max(-x, 0)\n",
    "\n",
    "    x_max     = min(img.shape[0] + x, img.shape[0])\n",
    "    x_max_new = min(img.shape[0] - x, img.shape[0])\n",
    "\n",
    "    y_min     = max(y, 0)\n",
    "    y_min_new = max(-y, 0)\n",
    "\n",
    "    y_max     = min(img.shape[1] + y, img.shape[1])\n",
    "    y_max_new = min(img.shape[1] - y, img.shape[1])   \n",
    "\n",
    "    img_new[x_min_new:x_max_new,y_min_new:y_max_new,:] = img[x_min:x_max,y_min:y_max,:]\n",
    "    return(img_new)"
   ]
  },
  {
   "cell_type": "markdown",
   "id": "94faa0ea",
   "metadata": {},
   "source": [
    "Create transposed copys of the images used for traning. It is importand that we also transpose the target data. Also due to memory and GPU limits I will rezise the images to 256/256. I also have to split the images into epochs already as they are to large for my RAM. You may adjusst this to your ressources."
   ]
  },
  {
   "cell_type": "code",
   "execution_count": 7,
   "id": "0dd6e531",
   "metadata": {},
   "outputs": [],
   "source": [
    "TrainingData = Shirts[Shirts[\"training_data\"]]\n",
    "\n",
    "size = 256 \n",
    "\n",
    "for epoch in range(2):\n",
    "    num_tranposition = 5\n",
    "\n",
    "    # sample the transposition coordinate \n",
    "    # for efficiency only sample once but a larger vector\n",
    "    rand_ints = np.random.randint(low = -50, high = 50, size = TrainingData.shape[0] * num_tranposition * 2)\n",
    "\n",
    "\n",
    "\n",
    "    # define the training images\n",
    "    training_images = np.ones(shape = (TrainingData.shape[0] * num_tranposition, 256, 256, 3))\n",
    "    target_images   = np.ones(shape = (TrainingData.shape[0] * num_tranposition, 256, 256, 3))\n",
    "\n",
    "    # assign the training immages\n",
    "    for k in range(TrainingData.shape[0]):\n",
    "\n",
    "        # read the kth image and resize it\n",
    "        img_train = mpimg.imread(create_source_path(TrainingData[\"id\"].iat[k])).astype(float) / 255\n",
    "        img_train = cv2.resize(img_train, dsize=(256, 256), interpolation=cv2.INTER_CUBIC)\n",
    "\n",
    "\n",
    "        img_target = mpimg.imread(create_training_path(TrainingData[\"id\"].iat[k], extension)).astype(float) / 255\n",
    "        img_target = cv2.resize(img_target, dsize=(256, 256), interpolation=cv2.INTER_CUBIC)\n",
    "\n",
    "\n",
    "        # transpose the image num_tranposition times\n",
    "        for i in range(num_tranposition): \n",
    "            # assign the transposed image\n",
    "            training_images[k * num_tranposition +i,:,:,:] = transpose_img(img_train,\n",
    "                                                                           rand_ints[num_tranposition * k + i*2],\n",
    "                                                                           rand_ints[num_tranposition * k + i*2]+1)\n",
    "            target_images[k * num_tranposition +i,:,:,:]   = transpose_img(img_target, \n",
    "                                                                           rand_ints[num_tranposition * k + i*2], \n",
    "                                                                           rand_ints[num_tranposition * k + i*2]+1,\n",
    "                                                                           mode = \"other\")\n",
    "\n",
    "\n",
    "\n",
    "    path = \"C:/Users/weime/Documents/Python Scripts/CircularFashion/Data/fashion-dataset/prepared-data\"\n",
    "\n",
    "    np.save(path + \"/training_images\" + str(epoch), training_images)\n",
    "    np.save(path + \"/target_images\" + str(epoch), target_images)\n",
    "\n",
    "\n"
   ]
  },
  {
   "cell_type": "markdown",
   "id": "ce0cfd6c",
   "metadata": {},
   "source": [
    "Now we have a look at some plots to ensure the transposition worked correctly."
   ]
  },
  {
   "cell_type": "code",
   "execution_count": 8,
   "id": "7d102b01",
   "metadata": {},
   "outputs": [
    {
     "name": "stderr",
     "output_type": "stream",
     "text": [
      "Clipping input data to the valid range for imshow with RGB data ([0..1] for floats or [0..255] for integers).\n"
     ]
    },
    {
     "data": {
      "text/plain": [
       "<matplotlib.image.AxesImage at 0x2388799f670>"
      ]
     },
     "execution_count": 8,
     "metadata": {},
     "output_type": "execute_result"
    },
    {
     "data": {
      "image/png": "[encoded data removed]",
      "text/plain": [
       "<Figure size 432x288 with 1 Axes>"
      ]
     },
     "metadata": {
      "needs_background": "light"
     },
     "output_type": "display_data"
    }
   ],
   "source": [
    "plt.imshow(training_images[0:20:5].reshape(256 * 4,256 ,3))"
   ]
  },
  {
   "cell_type": "code",
   "execution_count": 9,
   "id": "3db6cf9d",
   "metadata": {
    "scrolled": true
   },
   "outputs": [
    {
     "name": "stderr",
     "output_type": "stream",
     "text": [
      "Clipping input data to the valid range for imshow with RGB data ([0..1] for floats or [0..255] for integers).\n"
     ]
    },
    {
     "data": {
      "text/plain": [
       "<matplotlib.image.AxesImage at 0x23887a36400>"
      ]
     },
     "execution_count": 9,
     "metadata": {},
     "output_type": "execute_result"
    },
    {
     "data": {
      "image/png": "[encoded data removed]",
      "text/plain": [
       "<Figure size 432x288 with 1 Axes>"
      ]
     },
     "metadata": {
      "needs_background": "light"
     },
     "output_type": "display_data"
    }
   ],
   "source": [
    "plt.imshow(target_images[0:20:5].reshape(256 * 4,256,3))"
   ]
  },
  {
   "cell_type": "markdown",
   "id": "0f93bb83",
   "metadata": {},
   "source": [
    "Save the modified data in order to use it in the next skript."
   ]
  }
 ],
 "metadata": {
  "kernelspec": {
   "display_name": "Python 3 (ipykernel)",
   "language": "python",
   "name": "python3"
  },
  "language_info": {
   "codemirror_mode": {
    "name": "ipython",
    "version": 3
   },
   "file_extension": ".py",
   "mimetype": "text/x-python",
   "name": "python",
   "nbconvert_exporter": "python",
   "pygments_lexer": "ipython3",
   "version": "3.9.12"
  }
 },
 "nbformat": 4,
 "nbformat_minor": 5
}
